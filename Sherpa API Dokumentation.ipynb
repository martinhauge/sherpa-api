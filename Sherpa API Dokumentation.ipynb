{
 "cells": [
  {
   "cell_type": "markdown",
   "metadata": {},
   "source": [
    "# Dokumentation af dataudtræk fra Sherpa Romeo API\n",
    "\n",
    "Denne notebook dokumenterer udtræk af tidsskriftdata fra Sherpas Object Retrieval API.\n",
    "\n",
    "Udtrækket omfatter JSON-data for ca. 30.000 tidsskrifter. Logfiler fra udtrækket genereres automatisk.\n",
    "\n",
    "API'ens officielle dokumentation findes her: https://v2.sherpa.ac.uk/api/object-retrieval.html\n",
    "\n",
    "Spørgsmål og kommentarer kan sendes til Martin Hauge Zeuner (maha@kb.dk)."
   ]
  },
  {
   "cell_type": "markdown",
   "metadata": {},
   "source": [
    "### Import af afhængigheder"
   ]
  },
  {
   "cell_type": "code",
   "execution_count": null,
   "metadata": {},
   "outputs": [],
   "source": [
    "import pandas as pd\n",
    "import requests\n",
    "import json\n",
    "import logging\n",
    "from datetime import date\n",
    "from time import sleep\n",
    "from pathlib import Path"
   ]
  },
  {
   "cell_type": "markdown",
   "metadata": {},
   "source": [
    "### Mappeopsætning\n",
    "Hentet data samles i en undermappe navngivet efter dato. Skal der laves flere kørsler på samme dag, kan `crawl_id` ændres til en anden tekststreng."
   ]
  },
  {
   "cell_type": "code",
   "execution_count": null,
   "metadata": {},
   "outputs": [],
   "source": [
    "crawl_id = date.strftime(date.today(), '%Y-%m-%d')\n",
    "\n",
    "project_folder = Path('crawls', crawl_id)\n",
    "\n",
    "Path(project_folder, 'data').mkdir(parents=True)"
   ]
  },
  {
   "cell_type": "markdown",
   "metadata": {},
   "source": [
    "### Logger-opsætning"
   ]
  },
  {
   "cell_type": "code",
   "execution_count": null,
   "metadata": {},
   "outputs": [],
   "source": [
    "logger = logging.getLogger()\n",
    "\n",
    "logfile_path = Path(project_folder, f'{crawl_id}_sherpa.log')\n",
    "\n",
    "file_handler = logging.FileHandler(filename=logfile_path, mode='a')\n",
    "formatter = logging.Formatter('[%(asctime)s] %(levelname)s (%(module)s): %(message)s')\n",
    "file_handler.setFormatter(formatter)\n",
    "\n",
    "logger.addHandler(file_handler)\n",
    "logger.setLevel(logging.DEBUG)"
   ]
  },
  {
   "cell_type": "markdown",
   "metadata": {},
   "source": [
    "### Opsætning af query-parametre"
   ]
  },
  {
   "cell_type": "markdown",
   "metadata": {},
   "source": [
    "API'ens endpoint defineres."
   ]
  },
  {
   "cell_type": "code",
   "execution_count": null,
   "metadata": {},
   "outputs": [],
   "source": [
    "endpoint = 'https://v2.sherpa.ac.uk/cgi/retrieve'"
   ]
  },
  {
   "cell_type": "markdown",
   "metadata": {},
   "source": [
    "Personlig API-nøgle indlæses `config.json`."
   ]
  },
  {
   "cell_type": "code",
   "execution_count": null,
   "metadata": {},
   "outputs": [],
   "source": [
    "with open('config.json') as f:\n",
    "    key = json.loads(f.read())['api-key']"
   ]
  },
  {
   "cell_type": "markdown",
   "metadata": {},
   "source": [
    "Query-parametre gemmes i en dictionary."
   ]
  },
  {
   "cell_type": "code",
   "execution_count": null,
   "metadata": {},
   "outputs": [],
   "source": [
    "params = {\n",
    "    'api-key': key,\n",
    "    'format': 'Json',\n",
    "    'item-type': 'publication',\n",
    "    'limit': 100,\n",
    "    'offset': 0\n",
    "}"
   ]
  },
  {
   "cell_type": "markdown",
   "metadata": {},
   "source": [
    "## Definition af Crawler funktion\n",
    "\n",
    "Crawleren indlæser et antal tidsskrifter, defineret i `params['limit']`, og gemmer den returnerede JSON data i en tekstfil. Funktionen kalder sig selv rekursivt, så længe det indlæste antal tidsskrifter matcher, det anmodede antal tidsskrifter (`params['limit']`). Dvs. når det indlæste antal tidsskrifter er mindre end det anmodede antal tidsskrifter, er enden af resultatet nået.\n",
    "\n",
    "Hver HTTP-anmodning er adskilt af minimum 1 sekunds hvile."
   ]
  },
  {
   "cell_type": "code",
   "execution_count": null,
   "metadata": {},
   "outputs": [],
   "source": [
    "def api_crawl(url, params):\n",
    "    \n",
    "    logger.debug(f'Retrieving results {params[\"offset\"]}-{params[\"offset\"] + params[\"limit\"]}')\n",
    "    res = requests.get(url, params=params)\n",
    "    res.raise_for_status()\n",
    "    \n",
    "    response_json = res.json()\n",
    "    \n",
    "    with open(Path(project_folder, 'data', f'{crawl_id}_journals_{params[\"offset\"]:05}.json'), 'w') as f:\n",
    "        f.write(json.dumps(response_json))\n",
    "    \n",
    "    if len(response_json['items']) == params['limit']:\n",
    "        params['offset'] += params['limit']\n",
    "        \n",
    "        sleep(1)\n",
    "        \n",
    "        api_crawl(url, params)\n",
    "    else:\n",
    "        logger.debug('End of results')\n",
    "        "
   ]
  },
  {
   "cell_type": "markdown",
   "metadata": {},
   "source": [
    "## Start Crawler\n",
    "\n",
    "Crawleren sættes i gang med det definerede endpoint og query-parametre."
   ]
  },
  {
   "cell_type": "code",
   "execution_count": null,
   "metadata": {
    "scrolled": true
   },
   "outputs": [],
   "source": [
    "api_crawl(endpoint, params)"
   ]
  },
  {
   "cell_type": "markdown",
   "metadata": {},
   "source": [
    "___"
   ]
  },
  {
   "cell_type": "markdown",
   "metadata": {},
   "source": [
    "## Post-processering\n",
    "\n",
    "### Kombinér output-filer\n",
    "Da API'en begrænser antallet af tidsskrifter per kald til 100, samles de enkelte output-filer endeligt til én JSON-fil."
   ]
  },
  {
   "cell_type": "code",
   "execution_count": null,
   "metadata": {},
   "outputs": [],
   "source": [
    "journals = []\n",
    "\n",
    "journals_filename = Path(project_folder, f'{crawl_id}_sherpa_journals.json')\n",
    "\n",
    "output_files = [Path(f) for f in Path(project_folder, 'data').iterdir()]\n",
    "\n",
    "for output_file in output_files:\n",
    "    with open(output_file, 'r') as f:\n",
    "        journals.extend(json.loads(f.read())['items'])\n",
    "        \n",
    "with open(journals_filename, 'w') as f:\n",
    "    f.write(f'{{\"items\": {json.dumps(journals)}}}')"
   ]
  },
  {
   "cell_type": "markdown",
   "metadata": {},
   "source": [
    "### Sanitér log-fil\n",
    "Fjern sensitive data (API-nøgle) fra log-fil."
   ]
  },
  {
   "cell_type": "code",
   "execution_count": null,
   "metadata": {},
   "outputs": [],
   "source": [
    "with open(logfile_path, 'r+') as f:\n",
    "    log_text = f.read()\n",
    "    sanitised_log_text = log_text.replace(params['api-key'], 'SECRET-KEY')\n",
    "    f.seek(0)\n",
    "    f.write(sanitised_log_text)\n",
    "    f.truncate()"
   ]
  }
 ],
 "metadata": {
  "kernelspec": {
   "display_name": "Python 3 (ipykernel)",
   "language": "python",
   "name": "python3"
  },
  "language_info": {
   "codemirror_mode": {
    "name": "ipython",
    "version": 3
   },
   "file_extension": ".py",
   "mimetype": "text/x-python",
   "name": "python",
   "nbconvert_exporter": "python",
   "pygments_lexer": "ipython3",
   "version": "3.8.10"
  }
 },
 "nbformat": 4,
 "nbformat_minor": 2
}
